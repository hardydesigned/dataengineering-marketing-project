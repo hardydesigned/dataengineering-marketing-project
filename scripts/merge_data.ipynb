{
 "cells": [
  {
   "cell_type": "code",
   "execution_count": 1,
   "metadata": {},
   "outputs": [],
   "source": [
    "import pandas as pd\n",
    "\n",
    "conversion_data = pd.read_csv(\"conversion_data.csv\")\n",
    "campaign_data = pd.read_csv(\"./data/campaign_data.csv\")\n",
    "interest_data = pd.read_csv(\"./data/interest_data.csv\")\n",
    "time_data = pd.read_csv(\"conversion_time.csv\")\n",
    "\n",
    "# Merge the dataframes\n",
    "merged_data = pd.merge(conversion_data, campaign_data, on='campaign_id')\n",
    "\n",
    "merged_data = pd.merge(merged_data, interest_data, on='interest_id')\n",
    "\n",
    "merged_data = pd.merge(merged_data, time_data, on='ad_id')\n",
    "\n",
    "merged_data.to_csv(\"merged_data_df.csv\", index=False)"
   ]
  },
  {
   "cell_type": "code",
   "execution_count": 2,
   "metadata": {},
   "outputs": [],
   "source": [
    "# from pandas_gbq import read_gbq, to_gbq\n",
    "\n",
    "# df = read_gbq(\"marketing_data.conversion_data\", project_id=\"your_project_id\")\n",
    "\n",
    "# to_gbq(df, \"marketing_data.conversion_data\", if_exists='append')"
   ]
  }
 ],
 "metadata": {
  "kernelspec": {
   "display_name": "Python 3",
   "language": "python",
   "name": "python3"
  },
  "language_info": {
   "codemirror_mode": {
    "name": "ipython",
    "version": 3
   },
   "file_extension": ".py",
   "mimetype": "text/x-python",
   "name": "python",
   "nbconvert_exporter": "python",
   "pygments_lexer": "ipython3",
   "version": "3.12.3"
  }
 },
 "nbformat": 4,
 "nbformat_minor": 2
}
