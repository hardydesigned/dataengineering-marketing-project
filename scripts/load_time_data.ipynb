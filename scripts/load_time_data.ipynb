{
 "cells": [
  {
   "cell_type": "markdown",
   "metadata": {},
   "source": [
    "# Data loading and checks"
   ]
  },
  {
   "cell_type": "code",
   "execution_count": 11,
   "metadata": {},
   "outputs": [
    {
     "name": "stdout",
     "output_type": "stream",
     "text": [
      "Warning: Looks like you're using an outdated `kagglehub` version, please consider updating (latest version: 0.3.6)\n"
     ]
    }
   ],
   "source": [
    "import kagglehub\n",
    "import pandas as pd\n",
    "\n",
    "path = kagglehub.dataset_download(\"madislemsalu/facebook-ad-campaign\")\n",
    "\n",
    "time_data_raw = pd.read_csv(path + \"/data.csv\")\n",
    "\n",
    "time_data_raw.drop(columns=['campaign_id', 'age', \"fb_campaign_id\",\"gender\",\"interest1\",\"interest2\",\"interest3\",\"impressions\",\"clicks\",\"spent\",\"total_conversion\",\"approved_conversion\"], inplace=True)\n",
    "\n",
    "time_data_raw.to_csv(\"conversion_time.csv\", index=False)\n",
    "\n",
    "dtypes = {\n",
    "        'ad_id': pd.Int64Dtype(),\n",
    "        'reporting_start': pd.StringDtype(),\n",
    "        'reporting_end': pd.StringDtype(),\n",
    "    }\n",
    "\n",
    "time_data = pd.read_csv(\"conversion_time.csv\", dtype=dtypes)"
   ]
  },
  {
   "cell_type": "code",
   "execution_count": 12,
   "metadata": {},
   "outputs": [],
   "source": [
    "# Check for missing values\n",
    "if time_data.isnull().any().any():\n",
    "    print(\"Missing values\")\n",
    "\n",
    "# Validate numeric columns for negative values\n",
    "negative_columns = {\n",
    "    'ad_id': \"Negative AD_ID\",\n",
    "}\n",
    "\n",
    "for column, message in negative_columns.items():\n",
    "    if (time_data[column] < 0).any():\n",
    "        print(message)\n",
    "\n"
   ]
  },
  {
   "cell_type": "markdown",
   "metadata": {},
   "source": [
    "# Transform Data"
   ]
  },
  {
   "cell_type": "code",
   "execution_count": 13,
   "metadata": {},
   "outputs": [],
   "source": [
    "time_data.drop_duplicates(inplace=True)\n",
    "\n",
    "time_data.to_csv(\"conversion_time.csv\", index=False)"
   ]
  },
  {
   "cell_type": "code",
   "execution_count": 14,
   "metadata": {},
   "outputs": [
    {
     "data": {
      "text/plain": [
       "58705.23"
      ]
     },
     "execution_count": 14,
     "metadata": {},
     "output_type": "execute_result"
    }
   ],
   "source": [
    "merged = pd.read_csv(\"merged_data_df.csv\")\n",
    "\n",
    "merged.spent.sum()"
   ]
  }
 ],
 "metadata": {
  "kernelspec": {
   "display_name": "Python 3",
   "language": "python",
   "name": "python3"
  },
  "language_info": {
   "codemirror_mode": {
    "name": "ipython",
    "version": 3
   },
   "file_extension": ".py",
   "mimetype": "text/x-python",
   "name": "python",
   "nbconvert_exporter": "python",
   "pygments_lexer": "ipython3",
   "version": "3.12.3"
  }
 },
 "nbformat": 4,
 "nbformat_minor": 2
}
