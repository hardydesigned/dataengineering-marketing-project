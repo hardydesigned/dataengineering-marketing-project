{
 "cells": [
  {
   "cell_type": "markdown",
   "metadata": {},
   "source": [
    "# Data loading and checks"
   ]
  },
  {
   "cell_type": "code",
   "execution_count": 1,
   "metadata": {},
   "outputs": [
    {
     "name": "stderr",
     "output_type": "stream",
     "text": [
      "C:\\Users\\phili\\AppData\\Roaming\\Python\\Python312\\site-packages\\tqdm\\auto.py:21: TqdmWarning: IProgress not found. Please update jupyter and ipywidgets. See https://ipywidgets.readthedocs.io/en/stable/user_install.html\n",
      "  from .autonotebook import tqdm as notebook_tqdm\n"
     ]
    },
    {
     "name": "stdout",
     "output_type": "stream",
     "text": [
      "Warning: Looks like you're using an outdated `kagglehub` version, please consider updating (latest version: 0.3.6)\n"
     ]
    }
   ],
   "source": [
    "import kagglehub\n",
    "import pandas as pd\n",
    "\n",
    "# Download latest version\n",
    "path = kagglehub.dataset_download(\"loveall/clicks-conversion-tracking\")\n",
    "\n",
    "dtypes = {\n",
    "        'ad_id': pd.Int64Dtype(),\n",
    "        'campaign_id': pd.Int64Dtype(),\n",
    "        'fb_campaign_id': pd.Int64Dtype(),\n",
    "        'age': pd.StringDtype(),\n",
    "        'gender': pd.StringDtype(),\n",
    "        'interest_id': pd.Int64Dtype(),\n",
    "        'impressions': pd.Int64Dtype(),\n",
    "        'clicks': pd.Int64Dtype(),\n",
    "        'spent': pd.Float64Dtype(),\n",
    "        'total_conversion': pd.Int64Dtype(),\n",
    "        'approved_conversion': pd.Int64Dtype(),\n",
    "    }\n",
    "\n",
    "conversion_data = pd.read_csv(path + \"/KAG_conversion_data.csv\", dtype=dtypes,)\n",
    "\n",
    "conversion_data.rename(columns={\"xyz_campaign_id\": \"campaign_id\",\"Impressions\":\"impressions\", \"Clicks\": \"clicks\", \"Spent\": \"spent\", \"Total_Conversion\": \"total_conversion\",\"Approved_Conversion\":\"approved_conversion\", \"interest\": \"interest_id\"}, inplace=True)"
   ]
  },
  {
   "cell_type": "code",
   "execution_count": 2,
   "metadata": {},
   "outputs": [],
   "source": [
    "# Check for missing values\n",
    "if conversion_data.isnull().any().any():\n",
    "    print(\"Missing values\")\n",
    "\n",
    "# Validate 'age' column\n",
    "invalid_ages = ~conversion_data['age'].isin([\"30-34\", \"35-39\", \"40-44\", \"45-49\"])\n",
    "if invalid_ages.any():\n",
    "    print(\"Invalid age\")\n",
    "\n",
    "# Validate 'gender' column\n",
    "invalid_genders = ~conversion_data['gender'].isin([\"M\", \"F\"])\n",
    "if invalid_genders.any():\n",
    "    print(\"Invalid Gender\")\n",
    "\n",
    "# Validate numeric columns for negative values\n",
    "negative_columns = {\n",
    "    'clicks': \"Negative clicks\",\n",
    "    'impressions': \"Negative Impressions\",\n",
    "    'spent': \"Negative Spent\",\n",
    "    'total_conversion': \"Negative Total_Conversion\",\n",
    "    'approved_conversion': \"Negative Approved_Conversion\"\n",
    "}\n",
    "\n",
    "for column, message in negative_columns.items():\n",
    "    if (conversion_data[column] < 0).any():\n",
    "        print(message)\n",
    "\n"
   ]
  },
  {
   "cell_type": "markdown",
   "metadata": {},
   "source": [
    "# Transform Data"
   ]
  },
  {
   "cell_type": "code",
   "execution_count": 3,
   "metadata": {},
   "outputs": [],
   "source": [
    "conversion_data.drop_duplicates(inplace=True)\n",
    "\n",
    "conversion_data['spent'] = conversion_data['spent'].round(2)\n",
    "\n",
    "conversion_data.to_csv(\"conversion_data.csv\", index=False)"
   ]
  }
 ],
 "metadata": {
  "kernelspec": {
   "display_name": "Python 3",
   "language": "python",
   "name": "python3"
  },
  "language_info": {
   "codemirror_mode": {
    "name": "ipython",
    "version": 3
   },
   "file_extension": ".py",
   "mimetype": "text/x-python",
   "name": "python",
   "nbconvert_exporter": "python",
   "pygments_lexer": "ipython3",
   "version": "3.12.3"
  }
 },
 "nbformat": 4,
 "nbformat_minor": 2
}
